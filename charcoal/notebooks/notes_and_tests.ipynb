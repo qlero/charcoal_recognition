{
 "cells": [
  {
   "cell_type": "markdown",
   "id": "fca08b4e",
   "metadata": {},
   "source": [
    "# Notes and Tests\n",
    "\n",
    "This is a jupyter notebook where different techniques and tests are performed in a REPL form.\n",
    "\n",
    "### Import libraries"
   ]
  },
  {
   "cell_type": "code",
   "execution_count": 93,
   "id": "6ca1c0d4",
   "metadata": {},
   "outputs": [],
   "source": [
    "from torchvision.datasets import ImageFolder\n",
    "from torchvision import transforms as tf\n",
    "from torch.utils.data import random_split, DataLoader\n",
    "import os\n",
    "import torch"
   ]
  },
  {
   "cell_type": "markdown",
   "id": "881e6206",
   "metadata": {},
   "source": [
    "### Test"
   ]
  },
  {
   "cell_type": "code",
   "execution_count": 121,
   "id": "4bbec516",
   "metadata": {},
   "outputs": [
    {
     "name": "stdout",
     "output_type": "stream",
     "text": [
      "Help on function random_split in module torch.utils.data.dataset:\n",
      "\n",
      "random_split(dataset: torch.utils.data.dataset.Dataset[~T], lengths: Sequence[int], generator: Optional[torch._C.Generator] = <torch._C.Generator object at 0x7f4fd84c2810>) -> List[torch.utils.data.dataset.Subset[~T]]\n",
      "    Randomly split a dataset into non-overlapping new datasets of given lengths.\n",
      "    Optionally fix the generator for reproducible results, e.g.:\n",
      "    \n",
      "    >>> random_split(range(10), [3, 7], generator=torch.Generator().manual_seed(42))\n",
      "    \n",
      "    Arguments:\n",
      "        dataset (Dataset): Dataset to be split\n",
      "        lengths (sequence): lengths of splits to be produced\n",
      "        generator (Generator): Generator used for the random permutation.\n",
      "\n"
     ]
    }
   ],
   "source": [
    "help(random_split)"
   ]
  },
  {
   "cell_type": "code",
   "execution_count": 104,
   "id": "2e8b2420",
   "metadata": {},
   "outputs": [],
   "source": [
    "dataset_folder = \"../../dataset_ufpr/cleaned\"\n",
    "transform = tf.Compose([\n",
    "    tf.RandomResizedCrop(64),\n",
    "    tf.RandomRotation(180),\n",
    "    tf.PILToTensor(),\n",
    "    tf.ConvertImageDtype(torch.float64),\n",
    "    tf.Normalize(mean=[0.5],std=[0.5]),\n",
    "])\n",
    "dataset = ImageFolder(dataset_folder, transform=transform)\n",
    "classes = dataset.classes\n",
    "nb_images = sum([len(folder[2]) for folder in list(os.walk(dataset_folder))])\n",
    "train_count = int(nb_images*2/3)\n",
    "valid_count = int(nb_images*1/6)\n",
    "test_count  = nb_images - train_count - valid_count\n",
    "train_dataset, valid_dataset, test_dataset = random_split(\n",
    "    dataset,\n",
    "    (train_count, valid_count, test_count)\n",
    ")\n",
    "batch_size = 128\n",
    "train_dataset_loader = DataLoader(\n",
    "    train_dataset, \n",
    "    batch_size=batch_size, \n",
    "    shuffle=True, \n",
    "    num_workers=1\n",
    ")\n",
    "valid_dataset_loader = DataLoader(\n",
    "    valid_dataset, \n",
    "    batch_size=batch_size, \n",
    "    shuffle=True, \n",
    "    num_workers=1\n",
    ")\n",
    "test_dataset_loader = DataLoader(\n",
    "    test_dataset, \n",
    "    batch_size=batch_size, \n",
    "    shuffle=True, \n",
    "    num_workers=1\n",
    ")\n",
    "datasets = {\n",
    "    \"train\": train_dataset,\n",
    "    \"val\": valid_dataset,\n",
    "    \"test\": test_dataset\n",
    "}\n",
    "dataloaders = {\n",
    "    \"train\": train_dataset_loader,\n",
    "    \"val\": valid_dataset_loader,\n",
    "    \"test\": test_dataset_loader\n",
    "}"
   ]
  },
  {
   "cell_type": "code",
   "execution_count": null,
   "id": "9747b072",
   "metadata": {},
   "outputs": [],
   "source": []
  }
 ],
 "metadata": {
  "kernelspec": {
   "display_name": "Python [conda env:charcoal]",
   "language": "python",
   "name": "conda-env-charcoal-py"
  },
  "language_info": {
   "codemirror_mode": {
    "name": "ipython",
    "version": 3
   },
   "file_extension": ".py",
   "mimetype": "text/x-python",
   "name": "python",
   "nbconvert_exporter": "python",
   "pygments_lexer": "ipython3",
   "version": "3.9.7"
  }
 },
 "nbformat": 4,
 "nbformat_minor": 5
}
